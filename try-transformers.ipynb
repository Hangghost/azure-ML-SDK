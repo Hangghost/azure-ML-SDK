{
 "cells": [
  {
   "cell_type": "code",
   "execution_count": 1,
   "metadata": {},
   "outputs": [
    {
     "name": "stderr",
     "output_type": "stream",
     "text": [
      "/Users/chenhunglun/Documents/Procjects/Coursera_MLOps/.venv/lib/python3.10/site-packages/tqdm/auto.py:21: TqdmWarning: IProgress not found. Please update jupyter and ipywidgets. See https://ipywidgets.readthedocs.io/en/stable/user_install.html\n",
      "  from .autonotebook import tqdm as notebook_tqdm\n"
     ]
    }
   ],
   "source": [
    "from transformers import pipeline"
   ]
  },
  {
   "cell_type": "code",
   "execution_count": 2,
   "metadata": {},
   "outputs": [
    {
     "name": "stderr",
     "output_type": "stream",
     "text": [
      "Hardware accelerator e.g. GPU is available in the environment, but no `device` argument is passed to the `Pipeline` object. Model will be on CPU.\n"
     ]
    }
   ],
   "source": [
    "generator = pipeline('text2text-generation', model='t5-base')"
   ]
  },
  {
   "cell_type": "code",
   "execution_count": 8,
   "metadata": {},
   "outputs": [
    {
     "data": {
      "text/plain": [
       "[{'generated_text': '::::: Machine learning was coined in 1959 by'}]"
      ]
     },
     "execution_count": 8,
     "metadata": {},
     "output_type": "execute_result"
    }
   ],
   "source": [
    "# Summarization\n",
    "generator(\"summerize: Machine learning is a field of computer science that uses statistical techniques to give computer systems the ability to 'learn' (e.g., progressively improve performance on a specific task) with data, without being explicitly programmed. The name machine learning was coined in 1959 by Arthur Samuel. \")"
   ]
  },
  {
   "cell_type": "code",
   "execution_count": 10,
   "metadata": {},
   "outputs": [
    {
     "data": {
      "text/plain": [
       "[{'generated_text': 'negative'}]"
      ]
     },
     "execution_count": 10,
     "metadata": {},
     "output_type": "execute_result"
    }
   ],
   "source": [
    "#Sentiment Analysis\n",
    "generator(\"sst2 sentiment: I love the new features of the phone, but the battery life is not good.\")"
   ]
  },
  {
   "cell_type": "code",
   "execution_count": 12,
   "metadata": {},
   "outputs": [
    {
     "data": {
      "text/plain": [
       "[{'generated_text': 'Barack Obama'}]"
      ]
     },
     "execution_count": 12,
     "metadata": {},
     "output_type": "execute_result"
    }
   ],
   "source": [
    "# Questions\n",
    "generator(\"question: Who is the current president of the United States?\")"
   ]
  },
  {
   "cell_type": "code",
   "execution_count": 13,
   "metadata": {},
   "outputs": [
    {
     "data": {
      "text/plain": [
       "[{'generated_text': 'Le renard brun rapide saute au-dessus du chien lasse.'}]"
      ]
     },
     "execution_count": 13,
     "metadata": {},
     "output_type": "execute_result"
    }
   ],
   "source": [
    "# Translation\n",
    "generator(\"translate English to French: The quick brown fox jumps over the lazy dog.\")"
   ]
  },
  {
   "cell_type": "code",
   "execution_count": 14,
   "metadata": {},
   "outputs": [
    {
     "name": "stderr",
     "output_type": "stream",
     "text": [
      "Hardware accelerator e.g. GPU is available in the environment, but no `device` argument is passed to the `Pipeline` object. Model will be on CPU.\n"
     ]
    }
   ],
   "source": [
    "gpt2_generator = pipeline('text-generation', model='gpt2')"
   ]
  },
  {
   "cell_type": "code",
   "execution_count": 16,
   "metadata": {},
   "outputs": [
    {
     "name": "stderr",
     "output_type": "stream",
     "text": [
      "Setting `pad_token_id` to `eos_token_id`:50256 for open-end generation.\n"
     ]
    },
    {
     "data": {
      "text/plain": [
       "[{'generated_text': 'Some phrase here are thought to be some pretty well conceived, but not quite original, phrases. A number, such as \"nothings\" and \"penny stocks,\" and possibly even \"bacon,\" will make the idea of that word seem vague; that is, to suppose that \"nothings\" and \"penny stocks\" are equivalent or synonymous with one another. To the extent that the reader does not consider them synonymous under the circumstances I wish to suggest that we must not be in an impossible situation and allow that which we cannot conceive as a conjunction into the meaning which the writer is endeavouring to represent.\\n\\nThe common use of those words in this sense would be well understood by anyone who had knowledge of Shakespeare\\'s works, and by those who would know no less about the works of other, superior writers. As for this, I feel no more sure as to the meaning of a phrase that is as close to the work as ever, since it takes in such a place a place of importance. The use of them implies that Shakespeare has, for several long years, been engaged in a process with which I have scarcely been able to reconcile. I hope, if I may assume any idea of the meaning he will find that at last it is in itself not entirely different from saying things about that works themselves. I think this is of no use to suggest to anyone who has even a cursory understanding of Shakespeare to the fact that when he writes, no other words like \"twins, quixote\" and \"penny stock\" are said or do appear in his plays. In that case I hope my reader will make the same sort of enquiry as my self.\\n\\nI shall, therefore, have some more of the idea of using those meanings which might be suggested that Shakespeare is speaking for himself; which, of course, is as well possible as that he is speaking for his audiences.\\n\\nThe fact that I do not yet know whether I have come to see what Shakespeare really means is a matter of great consequence to the writer. He is evidently no other but the author himself, and as to his intended use of this word, perhaps I should have to resort to his own words. He has made use of all I have known, all he has mentioned under his name, from the earliest days of his life; which all too often appears to be at the head of his work, as though he did not know it. I have heard a great deal of the great and wonderful things in Shakespeare that go across his mind; for he'}]"
      ]
     },
     "execution_count": 16,
     "metadata": {},
     "output_type": "execute_result"
    }
   ],
   "source": [
    "gpt2_generator(\"Some phrase here are thought to be\", max_new_tokens=512)"
   ]
  }
 ],
 "metadata": {
  "kernelspec": {
   "display_name": ".venv",
   "language": "python",
   "name": "python3"
  },
  "language_info": {
   "codemirror_mode": {
    "name": "ipython",
    "version": 3
   },
   "file_extension": ".py",
   "mimetype": "text/x-python",
   "name": "python",
   "nbconvert_exporter": "python",
   "pygments_lexer": "ipython3",
   "version": "3.10.0"
  }
 },
 "nbformat": 4,
 "nbformat_minor": 2
}
